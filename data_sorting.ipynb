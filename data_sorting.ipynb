{
 "cells": [
  {
   "cell_type": "code",
   "execution_count": 8,
   "metadata": {},
   "outputs": [],
   "source": [
    "import json\n",
    "\n",
    "start_year = 1965\n",
    "end_year = 2020\n",
    "step = 5\n",
    "\n",
    "files = [\"{}-{}.json\".format(i, i + step - 1) for i in range(start_year, end_year, step)]\n",
    "song_dict = [{} for _ in range(start_year, end_year, step)]\n",
    "directory = \"songs/\"\n",
    "\n",
    "for i, name in enumerate(files):\n",
    "    file = open(directory + name, \"w+\", encoding=\"utf8\")\n",
    "    files[i] = file\n",
    "\n",
    "with open(\"songs.json\", \"r\", encoding=\"utf8\") as all_songs:\n",
    "    songs = json.load(all_songs)\n",
    "\n",
    "for song_id in songs:\n",
    "    year = songs[song_id][\"year\"]\n",
    "    if year < start_year:\n",
    "        continue\n",
    "    songs_for_range = song_dict[int((year - start_year) / 5)]\n",
    "    songs_for_range[song_id] = songs[song_id]\n",
    "    #file.write(\"{},{},{}\\n\".format(songs[song_id][\"title\"], \\\n",
    "    #                             year, songs[song_id][\"artist\"]))    \n",
    "    \n",
    "for f,d in zip(files, song_dict):\n",
    "    json.dump(d,f, indent=2,separators=(',', ': '))\n",
    "    f.close()"
   ]
  }
 ],
 "metadata": {
  "kernelspec": {
   "display_name": "Python 3",
   "language": "python",
   "name": "python3"
  },
  "language_info": {
   "codemirror_mode": {
    "name": "ipython",
    "version": 3
   },
   "file_extension": ".py",
   "mimetype": "text/x-python",
   "name": "python",
   "nbconvert_exporter": "python",
   "pygments_lexer": "ipython3",
   "version": "3.6.2"
  }
 },
 "nbformat": 4,
 "nbformat_minor": 2
}
